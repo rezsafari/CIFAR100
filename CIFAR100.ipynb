{
 "cells": [
  {
   "cell_type": "code",
   "execution_count": 1,
   "id": "55a4d8f8",
   "metadata": {},
   "outputs": [],
   "source": [
    "import keras\n",
    "from keras.preprocessing.image import ImageDataGenerator\n",
    "from keras.models import Sequential\n",
    "from keras.layers import Dense, Dropout, Activation, Flatten\n",
    "from keras.layers import Conv2D, MaxPooling2D\n",
    "import matplotlib.pyplot as plt"
   ]
  },
  {
   "cell_type": "code",
   "execution_count": 2,
   "id": "d8ce2dea",
   "metadata": {},
   "outputs": [],
   "source": [
    "import numpy as np \n",
    "import pandas as pd\n",
    "import matplotlib.pyplot as plt\n",
    "import warnings\n",
    "warnings.filterwarnings('ignore')\n",
    "from keras.datasets import cifar100"
   ]
  },
  {
   "cell_type": "code",
   "execution_count": 3,
   "id": "1020b825",
   "metadata": {},
   "outputs": [
    {
     "name": "stdout",
     "output_type": "stream",
     "text": [
      "x_train shape: (50000, 32, 32, 3)\n",
      "50000 train samples\n",
      "10000 test samples\n"
     ]
    }
   ],
   "source": [
    "(x_train, y_train), (x_test, y_test) = cifar100.load_data()\n",
    "print('x_train shape:', x_train.shape)\n",
    "print(x_train.shape[0], 'train samples')\n",
    "print(x_test.shape[0], 'test samples')"
   ]
  },
  {
   "cell_type": "code",
   "execution_count": 6,
   "id": "0c2c5f46",
   "metadata": {},
   "outputs": [
    {
     "name": "stdout",
     "output_type": "stream",
     "text": [
      "[86]\n"
     ]
    },
    {
     "data": {
      "image/png": "[encoded data removed]",
      "text/plain": [
       "<Figure size 432x288 with 1 Axes>"
      ]
     },
     "metadata": {
      "needs_background": "light"
     },
     "output_type": "display_data"
    }
   ],
   "source": [
    "print(y_train[7345])\n",
    "plt.imshow(x_train[7345]);"
   ]
  },
  {
   "cell_type": "code",
   "execution_count": 7,
   "id": "e6dc4642",
   "metadata": {},
   "outputs": [
    {
     "data": {
      "text/plain": [
       "(32, 32, 3)"
      ]
     },
     "execution_count": 7,
     "metadata": {},
     "output_type": "execute_result"
    }
   ],
   "source": [
    "x_train[7345].shape"
   ]
  },
  {
   "cell_type": "code",
   "execution_count": 8,
   "id": "481065f9",
   "metadata": {},
   "outputs": [],
   "source": [
    "num_classes = 100\n",
    "\n",
    "y_train = keras.utils.to_categorical(y_train, num_classes)\n",
    "y_test = keras.utils.to_categorical(y_test, num_classes)"
   ]
  },
  {
   "cell_type": "code",
   "execution_count": 10,
   "id": "3c2262d1",
   "metadata": {},
   "outputs": [
    {
     "data": {
      "text/plain": [
       "array([0., 0., 0., 0., 0., 0., 0., 0., 0., 0., 0., 0., 0., 0., 0., 0., 0.,\n",
       "       0., 0., 0., 0., 0., 0., 0., 0., 0., 0., 0., 0., 0., 0., 0., 0., 0.,\n",
       "       0., 0., 0., 0., 0., 0., 0., 0., 0., 0., 0., 0., 0., 0., 0., 0., 0.,\n",
       "       0., 0., 0., 0., 0., 0., 0., 0., 0., 0., 0., 0., 0., 0., 0., 0., 0.,\n",
       "       0., 0., 0., 0., 0., 0., 0., 0., 0., 0., 0., 0., 0., 0., 0., 0., 0.,\n",
       "       0., 1., 0., 0., 0., 0., 0., 0., 0., 0., 0., 0., 0., 0., 0.],\n",
       "      dtype=float32)"
      ]
     },
     "execution_count": 10,
     "metadata": {},
     "output_type": "execute_result"
    }
   ],
   "source": [
    "y_train[7345]"
   ]
  },
  {
   "cell_type": "code",
   "execution_count": 11,
   "id": "3f113025",
   "metadata": {},
   "outputs": [],
   "source": [
    "x_train = x_train.astype('float32')\n",
    "x_test = x_test.astype('float32')\n",
    "x_train /= 255\n",
    "x_test /= 255"
   ]
  },
  {
   "cell_type": "code",
   "execution_count": 12,
   "id": "d2ae27ec",
   "metadata": {},
   "outputs": [
    {
     "name": "stdout",
     "output_type": "stream",
     "text": [
      "Model: \"sequential\"\n",
      "_________________________________________________________________\n",
      " Layer (type)                Output Shape              Param #   \n",
      "=================================================================\n",
      " conv2d (Conv2D)             (None, 16, 16, 32)        4736      \n",
      "                                                                 \n",
      " activation (Activation)     (None, 16, 16, 32)        0         \n",
      "                                                                 \n",
      " conv2d_1 (Conv2D)           (None, 6, 6, 32)          25632     \n",
      "                                                                 \n",
      " activation_1 (Activation)   (None, 6, 6, 32)          0         \n",
      "                                                                 \n",
      " conv2d_2 (Conv2D)           (None, 4, 4, 32)          9248      \n",
      "                                                                 \n",
      " activation_2 (Activation)   (None, 4, 4, 32)          0         \n",
      "                                                                 \n",
      " max_pooling2d (MaxPooling2D  (None, 2, 2, 32)         0         \n",
      " )                                                               \n",
      "                                                                 \n",
      " dropout (Dropout)           (None, 2, 2, 32)          0         \n",
      "                                                                 \n",
      " flatten (Flatten)           (None, 128)               0         \n",
      "                                                                 \n",
      " dense (Dense)               (None, 512)               66048     \n",
      "                                                                 \n",
      " activation_3 (Activation)   (None, 512)               0         \n",
      "                                                                 \n",
      " dropout_1 (Dropout)         (None, 512)               0         \n",
      "                                                                 \n",
      " dense_1 (Dense)             (None, 100)               51300     \n",
      "                                                                 \n",
      " activation_4 (Activation)   (None, 100)               0         \n",
      "                                                                 \n",
      "=================================================================\n",
      "Total params: 156,964\n",
      "Trainable params: 156,964\n",
      "Non-trainable params: 0\n",
      "_________________________________________________________________\n"
     ]
    }
   ],
   "source": [
    "model_1 = Sequential()\n",
    "\n",
    "\n",
    "## 7x7 convolution with 2x2 stride and 32 filters\n",
    "model_1.add(Conv2D(32, (7, 7), strides = (2,2), padding='same',\n",
    "                 input_shape=x_train.shape[1:]))\n",
    "model_1.add(Activation('relu'))\n",
    "\n",
    "## Another 5x5 convolution with 2x2 stride and 32 filters\n",
    "model_1.add(Conv2D(32, (5, 5), strides = (2,2)))\n",
    "model_1.add(Activation('relu'))\n",
    "\n",
    "## Another 3x3 convolution with 1x1 stride and 32 filters\n",
    "model_1.add(Conv2D(32, (3, 3), strides = (1,1)))\n",
    "model_1.add(Activation('relu'))\n",
    "\n",
    "## 2x2 max pooling reduces to 3 x 3 x 32\n",
    "model_1.add(MaxPooling2D(pool_size=(2, 2)))\n",
    "model_1.add(Dropout(0.25))\n",
    "\n",
    "## Flatten turns 3x3x32 into 288x1\n",
    "model_1.add(Flatten())\n",
    "model_1.add(Dense(512))\n",
    "model_1.add(Activation('relu'))\n",
    "model_1.add(Dropout(0.5))\n",
    "model_1.add(Dense(num_classes))\n",
    "model_1.add(Activation('softmax'))\n",
    "\n",
    "model_1.summary()"
   ]
  },
  {
   "cell_type": "code",
   "execution_count": 13,
   "id": "1f83cc61",
   "metadata": {},
   "outputs": [
    {
     "name": "stdout",
     "output_type": "stream",
     "text": [
      "Epoch 1/15\n",
      "782/782 [==============================] - 18s 22ms/step - loss: 4.2777 - accuracy: 0.0472 - val_loss: 3.9762 - val_accuracy: 0.0967\n",
      "Epoch 2/15\n",
      "782/782 [==============================] - 18s 23ms/step - loss: 3.8717 - accuracy: 0.1083 - val_loss: 3.7006 - val_accuracy: 0.1446\n",
      "Epoch 3/15\n",
      "782/782 [==============================] - 17s 22ms/step - loss: 3.6618 - accuracy: 0.1374 - val_loss: 3.4370 - val_accuracy: 0.1876\n",
      "Epoch 4/15\n",
      "782/782 [==============================] - 17s 22ms/step - loss: 3.5149 - accuracy: 0.1631 - val_loss: 3.4677 - val_accuracy: 0.1814\n",
      "Epoch 5/15\n",
      "782/782 [==============================] - 19s 24ms/step - loss: 3.4134 - accuracy: 0.1826 - val_loss: 3.2613 - val_accuracy: 0.2146\n",
      "Epoch 6/15\n",
      "782/782 [==============================] - 18s 23ms/step - loss: 3.3371 - accuracy: 0.1959 - val_loss: 3.2753 - val_accuracy: 0.2133\n",
      "Epoch 7/15\n",
      "782/782 [==============================] - 18s 23ms/step - loss: 3.2806 - accuracy: 0.2061 - val_loss: 3.2826 - val_accuracy: 0.2099\n",
      "Epoch 8/15\n",
      "782/782 [==============================] - 20s 25ms/step - loss: 3.2217 - accuracy: 0.2159 - val_loss: 3.1139 - val_accuracy: 0.2461\n",
      "Epoch 9/15\n",
      "782/782 [==============================] - 18s 23ms/step - loss: 3.1873 - accuracy: 0.2234 - val_loss: 3.1662 - val_accuracy: 0.2381\n",
      "Epoch 10/15\n",
      "782/782 [==============================] - 21s 26ms/step - loss: 3.1421 - accuracy: 0.2325 - val_loss: 3.0436 - val_accuracy: 0.2598\n",
      "Epoch 11/15\n",
      "782/782 [==============================] - 23s 29ms/step - loss: 3.1041 - accuracy: 0.2380 - val_loss: 3.0366 - val_accuracy: 0.2598\n",
      "Epoch 12/15\n",
      "782/782 [==============================] - 19s 24ms/step - loss: 3.0771 - accuracy: 0.2455 - val_loss: 3.0301 - val_accuracy: 0.2656\n",
      "Epoch 13/15\n",
      "782/782 [==============================] - 19s 24ms/step - loss: 3.0482 - accuracy: 0.2509 - val_loss: 2.9706 - val_accuracy: 0.2813\n",
      "Epoch 14/15\n",
      "782/782 [==============================] - 17s 22ms/step - loss: 3.0252 - accuracy: 0.2533 - val_loss: 3.0106 - val_accuracy: 0.2731\n",
      "Epoch 15/15\n",
      "782/782 [==============================] - 19s 25ms/step - loss: 2.9993 - accuracy: 0.2593 - val_loss: 3.0610 - val_accuracy: 0.2567\n"
     ]
    },
    {
     "data": {
      "text/plain": [
       "<keras.callbacks.History at 0x2104c51a6d0>"
      ]
     },
     "execution_count": 13,
     "metadata": {},
     "output_type": "execute_result"
    }
   ],
   "source": [
    "batch_size = 64\n",
    "\n",
    "\n",
    "opt = keras.optimizers.RMSprop(lr=0.0005, decay=1e-6)\n",
    "\n",
    "model_1.compile(loss='categorical_crossentropy',\n",
    "              optimizer=opt,\n",
    "              metrics=['accuracy'])\n",
    "\n",
    "model_1.fit(x_train, y_train,\n",
    "              batch_size=batch_size,\n",
    "              epochs=15,\n",
    "              validation_data=(x_test, y_test),\n",
    "              shuffle=True)"
   ]
  },
  {
   "cell_type": "code",
   "execution_count": 14,
   "id": "de2e4b7a",
   "metadata": {},
   "outputs": [],
   "source": [
    "model_2 = Sequential()\n",
    "\n",
    "model_2.add(Conv2D(32, (3, 3), padding='same',\n",
    "                 input_shape=x_train.shape[1:]))\n",
    "model_2.add(Activation('relu'))\n",
    "model_2.add(Conv2D(32, (3, 3)))\n",
    "model_2.add(Activation('relu'))\n",
    "model_2.add(MaxPooling2D(pool_size=(2, 2)))\n",
    "model_2.add(Dropout(0.25))\n",
    "\n",
    "model_2.add(Conv2D(64, (3, 3), padding='same'))\n",
    "model_2.add(Activation('relu'))\n",
    "model_2.add(Conv2D(64, (3, 3)))\n",
    "model_2.add(Activation('relu'))\n",
    "model_2.add(MaxPooling2D(pool_size=(2, 2)))\n",
    "model_2.add(Dropout(0.25))\n",
    "\n",
    "model_2.add(Flatten())\n",
    "model_2.add(Dense(512))\n",
    "model_2.add(Activation('relu'))\n",
    "model_2.add(Dropout(0.5))\n",
    "model_2.add(Dense(num_classes))\n",
    "model_2.add(Activation('softmax'))"
   ]
  },
  {
   "cell_type": "code",
   "execution_count": 15,
   "id": "0a161882",
   "metadata": {},
   "outputs": [
    {
     "name": "stdout",
     "output_type": "stream",
     "text": [
      "Model: \"sequential_1\"\n",
      "_________________________________________________________________\n",
      " Layer (type)                Output Shape              Param #   \n",
      "=================================================================\n",
      " conv2d_3 (Conv2D)           (None, 32, 32, 32)        896       \n",
      "                                                                 \n",
      " activation_5 (Activation)   (None, 32, 32, 32)        0         \n",
      "                                                                 \n",
      " conv2d_4 (Conv2D)           (None, 30, 30, 32)        9248      \n",
      "                                                                 \n",
      " activation_6 (Activation)   (None, 30, 30, 32)        0         \n",
      "                                                                 \n",
      " max_pooling2d_1 (MaxPooling  (None, 15, 15, 32)       0         \n",
      " 2D)                                                             \n",
      "                                                                 \n",
      " dropout_2 (Dropout)         (None, 15, 15, 32)        0         \n",
      "                                                                 \n",
      " conv2d_5 (Conv2D)           (None, 15, 15, 64)        18496     \n",
      "                                                                 \n",
      " activation_7 (Activation)   (None, 15, 15, 64)        0         \n",
      "                                                                 \n",
      " conv2d_6 (Conv2D)           (None, 13, 13, 64)        36928     \n",
      "                                                                 \n",
      " activation_8 (Activation)   (None, 13, 13, 64)        0         \n",
      "                                                                 \n",
      " max_pooling2d_2 (MaxPooling  (None, 6, 6, 64)         0         \n",
      " 2D)                                                             \n",
      "                                                                 \n",
      " dropout_3 (Dropout)         (None, 6, 6, 64)          0         \n",
      "                                                                 \n",
      " flatten_1 (Flatten)         (None, 2304)              0         \n",
      "                                                                 \n",
      " dense_2 (Dense)             (None, 512)               1180160   \n",
      "                                                                 \n",
      " activation_9 (Activation)   (None, 512)               0         \n",
      "                                                                 \n",
      " dropout_4 (Dropout)         (None, 512)               0         \n",
      "                                                                 \n",
      " dense_3 (Dense)             (None, 100)               51300     \n",
      "                                                                 \n",
      " activation_10 (Activation)  (None, 100)               0         \n",
      "                                                                 \n",
      "=================================================================\n",
      "Total params: 1,297,028\n",
      "Trainable params: 1,297,028\n",
      "Non-trainable params: 0\n",
      "_________________________________________________________________\n"
     ]
    }
   ],
   "source": [
    "model_2.summary()"
   ]
  },
  {
   "cell_type": "code",
   "execution_count": 16,
   "id": "634e3215",
   "metadata": {},
   "outputs": [],
   "source": [
    "# initiate RMSprop optimizer\n",
    "opt_2 = keras.optimizers.RMSprop(lr=0.0005)\n",
    "\n",
    "# Let's train the model using RMSprop\n",
    "model_2.compile(loss='categorical_crossentropy',\n",
    "              optimizer=opt_2,\n",
    "              metrics=['accuracy'])"
   ]
  },
  {
   "cell_type": "code",
   "execution_count": 17,
   "id": "7766a98a",
   "metadata": {},
   "outputs": [
    {
     "name": "stdout",
     "output_type": "stream",
     "text": [
      "Epoch 1/10\n",
      "782/782 [==============================] - 89s 112ms/step - loss: 4.0689 - accuracy: 0.0801 - val_loss: 3.8412 - val_accuracy: 0.1178\n",
      "Epoch 2/10\n",
      "782/782 [==============================] - 85s 108ms/step - loss: 3.4627 - accuracy: 0.1751 - val_loss: 3.2275 - val_accuracy: 0.2305\n",
      "Epoch 3/10\n",
      "782/782 [==============================] - 87s 111ms/step - loss: 3.1595 - accuracy: 0.2329 - val_loss: 2.9335 - val_accuracy: 0.2769\n",
      "Epoch 4/10\n",
      "782/782 [==============================] - 90s 115ms/step - loss: 2.9418 - accuracy: 0.2733 - val_loss: 2.9375 - val_accuracy: 0.2849\n",
      "Epoch 5/10\n",
      "782/782 [==============================] - 85s 109ms/step - loss: 2.7816 - accuracy: 0.3069 - val_loss: 2.6194 - val_accuracy: 0.3429\n",
      "Epoch 6/10\n",
      "782/782 [==============================] - 86s 109ms/step - loss: 2.6349 - accuracy: 0.3352 - val_loss: 2.5702 - val_accuracy: 0.3516\n",
      "Epoch 7/10\n",
      "782/782 [==============================] - 86s 110ms/step - loss: 2.5219 - accuracy: 0.3585 - val_loss: 2.6720 - val_accuracy: 0.3361\n",
      "Epoch 8/10\n",
      "782/782 [==============================] - 86s 110ms/step - loss: 2.4316 - accuracy: 0.3772 - val_loss: 2.5106 - val_accuracy: 0.3702\n",
      "Epoch 9/10\n",
      "782/782 [==============================] - 86s 110ms/step - loss: 2.3553 - accuracy: 0.3948 - val_loss: 2.3731 - val_accuracy: 0.3968\n",
      "Epoch 10/10\n",
      "782/782 [==============================] - 88s 113ms/step - loss: 2.2792 - accuracy: 0.4121 - val_loss: 2.3898 - val_accuracy: 0.3953\n"
     ]
    },
    {
     "data": {
      "text/plain": [
       "<keras.callbacks.History at 0x2104e0729d0>"
      ]
     },
     "execution_count": 17,
     "metadata": {},
     "output_type": "execute_result"
    }
   ],
   "source": [
    "model_2.fit(x_train, y_train,\n",
    "              batch_size=batch_size,\n",
    "              epochs=10,\n",
    "              validation_data=(x_test, y_test),\n",
    "              shuffle=True)"
   ]
  },
  {
   "cell_type": "code",
   "execution_count": 18,
   "id": "6c1d9084",
   "metadata": {},
   "outputs": [],
   "source": [
    "from keras.callbacks import EarlyStopping\n",
    "from keras.layers import Dense, Conv2D,  MaxPool2D, Flatten, GlobalAveragePooling2D,  BatchNormalization, Layer, Add\n",
    "from keras.models import Sequential\n",
    "from keras.models import Model\n",
    "import tensorflow as tf\n",
    "\n",
    "\n",
    "class ResnetBlock(Model):\n",
    "    \"\"\"\n",
    "    A standard resnet block.\n",
    "    \"\"\"\n",
    "\n",
    "    def __init__(self, channels: int, down_sample=False):\n",
    "        \"\"\"\n",
    "        channels: same as number of convolution kernels\n",
    "        \"\"\"\n",
    "        super().__init__()\n",
    "\n",
    "        self.__channels = channels\n",
    "        self.__down_sample = down_sample\n",
    "        self.__strides = [2, 1] if down_sample else [1, 1]\n",
    "\n",
    "        KERNEL_SIZE = (3, 3)\n",
    "       \n",
    "        INIT_SCHEME = \"he_normal\"\n",
    "\n",
    "        self.conv_1 = Conv2D(self.__channels, strides=self.__strides[0],\n",
    "                             kernel_size=KERNEL_SIZE, padding=\"same\", kernel_initializer=INIT_SCHEME)\n",
    "        self.bn_1 = BatchNormalization()\n",
    "        self.conv_2 = Conv2D(self.__channels, strides=self.__strides[1],\n",
    "                             kernel_size=KERNEL_SIZE, padding=\"same\", kernel_initializer=INIT_SCHEME)\n",
    "        self.bn_2 = BatchNormalization()\n",
    "        self.merge = Add()\n",
    "\n",
    "        if self.__down_sample:\n",
    "            \n",
    "            self.res_conv = Conv2D(\n",
    "                self.__channels, strides=2, kernel_size=(1, 1), kernel_initializer=INIT_SCHEME, padding=\"same\")\n",
    "            self.res_bn = BatchNormalization()\n",
    "\n",
    "    def call(self, inputs):\n",
    "        res = inputs\n",
    "\n",
    "        x = self.conv_1(inputs)\n",
    "        x = self.bn_1(x)\n",
    "        x = tf.nn.relu(x)\n",
    "        x = self.conv_2(x)\n",
    "        x = self.bn_2(x)\n",
    "\n",
    "        if self.__down_sample:\n",
    "            res = self.res_conv(res)\n",
    "            res = self.res_bn(res)\n",
    "\n",
    "        \n",
    "        x = self.merge([x, res])\n",
    "        out = tf.nn.relu(x)\n",
    "        return out\n",
    "\n",
    "\n",
    "class ResNet18(Model):\n",
    "\n",
    "    def __init__(self, num_classes, **kwargs):\n",
    "        \"\"\"\n",
    "            num_classes: number of classes in specific classification task.\n",
    "        \"\"\"\n",
    "        super().__init__(**kwargs)\n",
    "        self.conv_1 = Conv2D(64, (7, 7), strides=2,\n",
    "                             padding=\"same\", kernel_initializer=\"he_normal\")\n",
    "        self.init_bn = BatchNormalization()\n",
    "        self.pool_2 = MaxPool2D(pool_size=(2, 2), strides=2, padding=\"same\")\n",
    "        self.res_1_1 = ResnetBlock(64)\n",
    "        self.res_1_2 = ResnetBlock(64)\n",
    "        self.res_2_1 = ResnetBlock(128, down_sample=True)\n",
    "        self.res_2_2 = ResnetBlock(128)\n",
    "        self.res_3_1 = ResnetBlock(256, down_sample=True)\n",
    "        self.res_3_2 = ResnetBlock(256)\n",
    "        self.res_4_1 = ResnetBlock(512, down_sample=True)\n",
    "        self.res_4_2 = ResnetBlock(512)\n",
    "        self.avg_pool = GlobalAveragePooling2D()\n",
    "        self.flat = Flatten()\n",
    "        self.fc = Dense(num_classes, activation=\"softmax\")\n",
    "\n",
    "    def call(self, inputs):\n",
    "        out = self.conv_1(inputs)\n",
    "        out = self.init_bn(out)\n",
    "        out = tf.nn.relu(out)\n",
    "        out = self.pool_2(out)\n",
    "        for res_block in [self.res_1_1, self.res_1_2, self.res_2_1, self.res_2_2, self.res_3_1, self.res_3_2, self.res_4_1, self.res_4_2]:\n",
    "            out = res_block(out)\n",
    "        out = self.avg_pool(out)\n",
    "        out = self.flat(out)\n",
    "        out = self.fc(out)\n",
    "        return out\n"
   ]
  },
  {
   "cell_type": "code",
   "execution_count": 22,
   "id": "69e807fc",
   "metadata": {},
   "outputs": [
    {
     "name": "stdout",
     "output_type": "stream",
     "text": [
      "Model: \"res_net18_1\"\n",
      "_________________________________________________________________\n",
      " Layer (type)                Output Shape              Param #   \n",
      "=================================================================\n",
      " conv2d_27 (Conv2D)          multiple                  9472      \n",
      "                                                                 \n",
      " batch_normalization_20 (Bat  multiple                 256       \n",
      " chNormalization)                                                \n",
      "                                                                 \n",
      " max_pooling2d_4 (MaxPooling  multiple                 0         \n",
      " 2D)                                                             \n",
      "                                                                 \n",
      " resnet_block_8 (ResnetBlock  multiple                 74368     \n",
      " )                                                               \n",
      "                                                                 \n",
      " resnet_block_9 (ResnetBlock  multiple                 74368     \n",
      " )                                                               \n",
      "                                                                 \n",
      " resnet_block_10 (ResnetBloc  multiple                 231296    \n",
      " k)                                                              \n",
      "                                                                 \n",
      " resnet_block_11 (ResnetBloc  multiple                 296192    \n",
      " k)                                                              \n",
      "                                                                 \n",
      " resnet_block_12 (ResnetBloc  multiple                 921344    \n",
      " k)                                                              \n",
      "                                                                 \n",
      " resnet_block_13 (ResnetBloc  multiple                 1182208   \n",
      " k)                                                              \n",
      "                                                                 \n",
      " resnet_block_14 (ResnetBloc  multiple                 3677696   \n",
      " k)                                                              \n",
      "                                                                 \n",
      " resnet_block_15 (ResnetBloc  multiple                 4723712   \n",
      " k)                                                              \n",
      "                                                                 \n",
      " global_average_pooling2d_1   multiple                 0         \n",
      " (GlobalAveragePooling2D)                                        \n",
      "                                                                 \n",
      " flatten_3 (Flatten)         multiple                  0         \n",
      "                                                                 \n",
      " dense_5 (Dense)             multiple                  51300     \n",
      "                                                                 \n",
      "=================================================================\n",
      "Total params: 11,242,212\n",
      "Trainable params: 11,232,612\n",
      "Non-trainable params: 9,600\n",
      "_________________________________________________________________\n"
     ]
    }
   ],
   "source": [
    "model = ResNet18(100)\n",
    "model.build(input_shape = (None,32,32,3))\n",
    "\n",
    "from keras.optimizers import SGD\n",
    "\n",
    "model.compile(optimizer = \"adam\",loss='categorical_crossentropy', metrics=[\"accuracy\"]) \n",
    "model.summary()"
   ]
  },
  {
   "cell_type": "code",
   "execution_count": 23,
   "id": "5534a822",
   "metadata": {},
   "outputs": [],
   "source": [
    "opt_3 = keras.optimizers.RMSprop(lr=0.0005)\n",
    "\n",
    "model.compile(loss='categorical_crossentropy',\n",
    "              optimizer=opt_3,\n",
    "              metrics=['accuracy'])"
   ]
  },
  {
   "cell_type": "code",
   "execution_count": 24,
   "id": "279397cf",
   "metadata": {},
   "outputs": [
    {
     "name": "stdout",
     "output_type": "stream",
     "text": [
      "Epoch 1/5\n",
      "782/782 [==============================] - 1031s 1s/step - loss: 3.6367 - accuracy: 0.1615 - val_loss: 5.6882 - val_accuracy: 0.1065\n",
      "Epoch 2/5\n",
      "782/782 [==============================] - 982s 1s/step - loss: 2.8267 - accuracy: 0.2930 - val_loss: 3.8052 - val_accuracy: 0.1918\n",
      "Epoch 3/5\n",
      "782/782 [==============================] - 986s 1s/step - loss: 2.4114 - accuracy: 0.3784 - val_loss: 4.0806 - val_accuracy: 0.1969\n",
      "Epoch 4/5\n",
      "782/782 [==============================] - 1013s 1s/step - loss: 2.0752 - accuracy: 0.4475 - val_loss: 2.9813 - val_accuracy: 0.2982\n",
      "Epoch 5/5\n",
      "782/782 [==============================] - 1024s 1s/step - loss: 1.7681 - accuracy: 0.5178 - val_loss: 4.8228 - val_accuracy: 0.1867\n"
     ]
    },
    {
     "data": {
      "text/plain": [
       "<keras.callbacks.History at 0x2108cc341c0>"
      ]
     },
     "execution_count": 24,
     "metadata": {},
     "output_type": "execute_result"
    }
   ],
   "source": [
    "model.fit(x_train, y_train,\n",
    "              batch_size=batch_size,\n",
    "              epochs=5,\n",
    "              validation_data=(x_test, y_test),\n",
    "              shuffle=True)"
   ]
  },
  {
   "cell_type": "code",
   "execution_count": null,
   "id": "afe961f6",
   "metadata": {},
   "outputs": [],
   "source": []
  }
 ],
 "metadata": {
  "kernelspec": {
   "display_name": "Python 3 (ipykernel)",
   "language": "python",
   "name": "python3"
  },
  "language_info": {
   "codemirror_mode": {
    "name": "ipython",
    "version": 3
   },
   "file_extension": ".py",
   "mimetype": "text/x-python",
   "name": "python",
   "nbconvert_exporter": "python",
   "pygments_lexer": "ipython3",
   "version": "3.9.12"
  }
 },
 "nbformat": 4,
 "nbformat_minor": 5
}
